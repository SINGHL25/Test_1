{
  "nbformat": 4,
  "nbformat_minor": 0,
  "metadata": {
    "colab": {
      "provenance": []
    },
    "kernelspec": {
      "name": "python3",
      "display_name": "Python 3"
    },
    "language_info": {
      "name": "python"
    }
  },
  "cells": [
    {
      "cell_type": "code",
      "source": [
        "\n",
        "\n",
        "!ngrok config add-authtoken 2xzUqPJTFD1GRcAFtXAzySIYjqh_7VtRcigYUxBkyWSqUwsce\n",
        "!pip install streamlit pyngrok streamlit-option-menu pygame --quiet\n",
        "\n",
        "# 🟢 Cell 2: Write app code to a file\n",
        "app_code = \"\"\"\n",
        "import streamlit as st\n",
        "import random\n",
        "import time\n",
        "from streamlit_option_menu import option_menu\n",
        "\n",
        "st.set_page_config(page_title=\"Scrum Host Picker\", layout=\"wide\")\n",
        "\n",
        "st.markdown('<h1 style=\"text-align: center; color: red;\">🏹⚔️ Battle Arena For Scrum ⚔️🏹</h1>', unsafe_allow_html=True)\n",
        "\n",
        "# Sidebar for names\n",
        "st.sidebar.header(\"🛡️ Enter Warrior Names\")\n",
        "names = []\n",
        "for i in range(1, 7):\n",
        "    name = st.sidebar.text_input(f\"Warrior {i}\", f\"Warrior{i}\")\n",
        "    names.append(name)\n",
        "\n",
        "# Background and animation display\n",
        "col1, col2, col3 = st.columns([1,2,1])\n",
        "\n",
        "with col2:\n",
        "    if st.button(\"⚔️ Begin Battle!\"):\n",
        "        st.markdown(\"## 🕒 The Battle Begins...\")\n",
        "        with st.spinner(\"Warriors are fighting...\"):\n",
        "            duration = 60  # seconds\n",
        "            start_time = time.time()\n",
        "            while time.time() - start_time < duration:\n",
        "                warrior1, warrior2 = random.sample(names, 2)\n",
        "                st.image(\"https://i.imgur.com/6aLz6dl.gif\", width=400)\n",
        "                st.markdown(f\"### {warrior1} clashes with {warrior2}!\")\n",
        "                time.sleep(5)\n",
        "                st.empty()\n",
        "\n",
        "        winner = random.choice(names)\n",
        "        st.balloons()\n",
        "        st.markdown(f\"<h2 style='color:green; text-align:center;'>🏆 {winner} will host today's Scrum! 🏆</h2>\", unsafe_allow_html=True)\n",
        "    else:\n",
        "        st.image(\"https://i.imgur.com/6aLz6dl.gif\", width=500)\n",
        "        st.markdown(\"### Click the button above to begin the battle!\")\n",
        "\"\"\"\n",
        "\n",
        "with open(\"scrum_host_picker.py\", \"w\") as f:\n",
        "    f.write(app_code)\n",
        "\n",
        "# 🟢 Cell 3: Launch Streamlit app via ngrok\n",
        "from pyngrok import ngrok\n",
        "import os\n",
        "os.system(\"pkill streamlit\")\n",
        "\n",
        "# Create tunnel\n",
        "public_url = ngrok.connect(8501)\n",
        "print(\"Streamlit app running at:\", public_url)\n",
        "\n",
        "# Run the app\n",
        "!streamlit run scrum_host_picker.py &>/dev/null &\n"
      ],
      "metadata": {
        "id": "vEsYwlHxbs_M",
        "colab": {
          "base_uri": "https://localhost:8080/"
        },
        "outputId": "15aa8ca8-f9c6-4d99-d1bf-1ccee1d47216"
      },
      "execution_count": 20,
      "outputs": [
        {
          "output_type": "stream",
          "name": "stdout",
          "text": [
            "Authtoken saved to configuration file: /root/.config/ngrok/ngrok.yml\n",
            "Streamlit app running at: NgrokTunnel: \"https://5407-35-243-220-45.ngrok-free.app\" -> \"http://localhost:8501\"\n"
          ]
        }
      ]
    },
    {
      "cell_type": "code",
      "source": [
        "!pip install streamlit pyngrok streamlit-option-menu --quiet\n",
        "\n"
      ],
      "metadata": {
        "id": "Lqd39UyKAZez"
      },
      "execution_count": null,
      "outputs": []
    },
    {
      "cell_type": "code",
      "source": [
        "# Download a known working cartoon GIF (we'll base64 encode it)\n",
        "import base64\n",
        "from urllib.request import urlopen\n",
        "\n",
        "url = \"https://cdn.dribbble.com/users/251076/screenshots/2855546/wonderwoman_new.gif\"  # Funny cartoon warrior\n",
        "gif_data = urlopen(url).read()\n",
        "\n",
        "with open(\"warrior.gif\", \"wb\") as f:\n",
        "    f.write(gif_data)\n",
        "\n",
        "# Encode as base64 to embed\n",
        "gif_base64 = base64.b64encode(gif_data).decode(\"utf-8\")\n",
        "\n",
        "# Save to a .txt file so we can use it in Streamlit app\n",
        "with open(\"encoded_gif.txt\", \"w\") as f:\n",
        "    f.write(gif_base64)\n",
        "\n",
        "\n",
        "\n"
      ],
      "metadata": {
        "id": "nHbtlTBfAlUm"
      },
      "execution_count": null,
      "outputs": []
    },
    {
      "cell_type": "code",
      "source": [
        "app_code = '''\n",
        "import streamlit as st\n",
        "import random\n",
        "import time\n",
        "\n",
        "# Load base64 gif\n",
        "with open(\"encoded_gif.txt\", \"r\") as f:\n",
        "    gif_data = f.read()\n",
        "\n",
        "# Prepare HTML for embedded base64 image\n",
        "battle_gif_html = f\"<img src='data:image/gif;base64,{gif_data}' width='400'/>\"\n",
        "\n",
        "# Set page config\n",
        "st.set_page_config(page_title=\"Battle Arena for Scrum Host\", layout=\"centered\")\n",
        "\n",
        "# Header\n",
        "st.markdown(\"<h1 style='text-align: center; color: darkred;'>⚔️ Battle Arena for Scrum Host ⚔️</h1>\", unsafe_allow_html=True)\n",
        "\n",
        "# Sidebar input for names\n",
        "st.sidebar.header(\"🛡️ Enter Warrior Names\")\n",
        "names = [st.sidebar.text_input(f\"Warrior {i+1}\", f\"Warrior{i+1}\") for i in range(6)]\n",
        "\n",
        "# Placeholder for display\n",
        "placeholder = st.empty()\n",
        "\n",
        "if st.button(\"🔥 Begin Battle!\"):\n",
        "    st.markdown(\"<h2 style='text-align: center; color: orange;'> Result...</h2>\", unsafe_allow_html=True)\n",
        "\n",
        "    start_time = time.time()\n",
        "    duration = 15  # seconds\n",
        "\n",
        "    while time.time() - start_time < duration:\n",
        "        w1, w2 = random.sample(names, 2)\n",
        "        with placeholder.container():\n",
        "            st.markdown(\"<div style='text-align: center;'>\", unsafe_allow_html=True)\n",
        "            st.markdown(battle_gif_html, unsafe_allow_html=True)\n",
        "            st.markdown(f\"<h3 style='color: navy;'>{w1} ⚔️ vs ⚔️ {w2}</h3>\", unsafe_allow_html=True)\n",
        "            st.markdown(\"</div>\", unsafe_allow_html=True)\n",
        "        time.sleep(3)\n",
        "\n",
        "    winner = random.choice(names)\n",
        "    st.balloons()\n",
        "    st.markdown(f\"<h2 style='text-align: center; color: green;'>🏆 {winner} will host tomorrow's Scrum! 🏆</h2>\", unsafe_allow_html=True)\n",
        "\n",
        "else:\n",
        "    with placeholder.container():\n",
        "        st.markdown(\"<div style='text-align: center;'>\", unsafe_allow_html=True)\n",
        "        st.markdown(battle_gif_html, unsafe_allow_html=True)\n",
        "        st.markdown(\"<h4>Click 'Begin Battle!' to start the Scrum host selection.</h4>\", unsafe_allow_html=True)\n",
        "        st.markdown(\"</div>\", unsafe_allow_html=True)\n",
        "'''\n",
        "\n",
        "with open(\"scrum_host_base64.py\", \"w\") as f:\n",
        "    f.write(app_code)\n"
      ],
      "metadata": {
        "id": "AioN7QMHJkqF"
      },
      "execution_count": null,
      "outputs": []
    },
    {
      "cell_type": "code",
      "source": [
        "from pyngrok import ngrok\n",
        "import os\n",
        "os.system(\"pkill streamlit\")\n",
        "\n",
        "public_url = ngrok.connect(8501)\n",
        "print(\"✅ Your App is Live at:\", public_url)\n",
        "\n",
        "!streamlit run scrum_host_battle_final.py &>/dev/null &\n"
      ],
      "metadata": {
        "colab": {
          "base_uri": "https://localhost:8080/"
        },
        "id": "fJdhxIlKAqce",
        "outputId": "49703344-5081-49e4-d6a7-06d8728fb73b"
      },
      "execution_count": null,
      "outputs": [
        {
          "output_type": "stream",
          "name": "stdout",
          "text": [
            "✅ Your App is Live at: NgrokTunnel: \"https://2f52-35-243-220-45.ngrok-free.app\" -> \"http://localhost:8501\"\n"
          ]
        }
      ]
    },
    {
      "cell_type": "code",
      "source": [
        "!pkill streamlit\n",
        "!pkill -f ngrok\n"
      ],
      "metadata": {
        "id": "4_6PJKkNDD0H"
      },
      "execution_count": null,
      "outputs": []
    }
  ]
}